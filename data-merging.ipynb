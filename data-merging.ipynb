{
 "cells": [
  {
   "cell_type": "code",
   "execution_count": null,
   "id": "2f8bf0d3",
   "metadata": {
    "slideshow": {
     "slide_type": "skip"
    }
   },
   "outputs": [],
   "source": [
    "# warning 제거 \n",
    "import warnings \n",
    "warnings.filterwarnings(action='ignore')\n",
    "\n",
    "import pandas as pd \n",
    "\n",
    "# 한글 폰트\n",
    "import platform\n",
    "import seaborn as sns\n",
    "from matplotlib import font_manager, rc\n",
    "import matplotlib.pyplot as plt\n",
    "\n",
    "from module.Font import Fontmanager\n",
    "path = Fontmanager()\n",
    "\n",
    "from module.split import split_first\n",
    "from module.category import *"
   ]
  },
  {
   "cell_type": "code",
   "execution_count": null,
   "id": "ffba7b54",
   "metadata": {
    "slideshow": {
     "slide_type": "skip"
    }
   },
   "outputs": [],
   "source": [
    "movie = pd.read_csv('movies.csv')\n",
    "rotten = pd.read_csv('rotten_tomatoes_movies.csv')\n",
    "oscar = pd.read_csv('the_oscar_award.csv')\n",
    "book = pd.read_csv('books.csv')"
   ]
  },
  {
   "cell_type": "code",
   "execution_count": null,
   "id": "e2aec390",
   "metadata": {
    "slideshow": {
     "slide_type": "skip"
    }
   },
   "outputs": [],
   "source": [
    "# IMDB 2010년 부터 2019년까지 데이터\n",
    "movie = movie[movie['year'] != 'TV Movie 2019']\n",
    "movie['year'] = movie['year'].astype(float)\n",
    "movie = movie[movie['year'] >= 2010]\n",
    "movie = movie[movie['year'] != 2020]"
   ]
  },
  {
   "cell_type": "code",
   "execution_count": null,
   "id": "7166bfab",
   "metadata": {
    "slideshow": {
     "slide_type": "skip"
    }
   },
   "outputs": [],
   "source": [
    "movie = movie.drop (['imdb_title_id','description', 'votes', 'usa_gross_income', 'reviews_from_users', \n",
    "                  'reviews_from_critics'], axis=1)\n",
    "movie.rename(columns = {'worlwide_gross_income' : 'worldwide_gross_income'}, inplace=True)\n",
    "movie = movie.dropna()"
   ]
  },
  {
   "cell_type": "code",
   "execution_count": null,
   "id": "33bd313f",
   "metadata": {
    "slideshow": {
     "slide_type": "skip"
    }
   },
   "outputs": [],
   "source": [
    "# 로튼 토마토\n",
    "rotten.rename(columns = {'movie_title' : 'original_title'}, inplace=True)\n",
    "merge = pd.merge(movie, rotten, on='original_title')\n",
    "\n",
    "merge = merge.drop(['actors_x','rotten_tomatoes_link', 'movie_info', 'critics_consensus','genres',\n",
    "           'directors', 'authors','original_release_date', 'streaming_release_date',\n",
    "           'runtime', 'production_company_y', 'tomatometer_status', 'tomatometer_rating',\n",
    "           'tomatometer_count', 'audience_status', 'audience_rating', 'audience_count',\n",
    "           'tomatometer_top_critics_count', 'tomatometer_fresh_critics_count', 'tomatometer_rotten_critics_count'\n",
    "           ], axis=1)\n",
    "\n",
    "merge = merge.drop_duplicates()\n",
    "merge = merge[merge['content_rating'] != 'NR']\n",
    "\n",
    "merge = merge.drop([130,131,134,135,136,137,534,536,537,538,1220,1221,1222, 1223, 165,166,168,\n",
    "                      1622, 1624, 1046,1047, 1049, 1572, 1573, 1574, 1575, 613, 614, 615, 260, 261, 262,\n",
    "                      1298, 1299, 1300, 392, 393, 876, 873,1012,1013,827,928,1162, 1163, 793, 794, 358,359,\n",
    "                      1872, 1873, 1786, 1787,193, 194, 602, 603,619, 621, 622, 623, 1914,1915, 1040, 989, 231, 2029,\n",
    "                      821, 1595, 1619, 1441, 204, 1701, 470, 246, 1483, 496, 433, 1776, 1328, 1615,\n",
    "                      84, 749, 1766, 1207, 1777, 841, 1738, 175, 838, 239, 2086,\n",
    "                      2115, 787, 1995, 1930, 1750, 1149, 1932, 2006, 950, 415, 1129, 1816, 1977, \n",
    "                      644, 663, 1818, 161, 1500, 1318, 1708, 92, 667, 61, 1570, 483, 1922, \n",
    "                      1397, 21, 2016, 1449, 908, 1801, 927, 1367, 419, 1408, 1105, 497, 1148, 1623, 766, 95, 1250, 702,\n",
    "                      1122, 391, 1870, 221, 1502, 326, 543, 800, 796, 1988, 549, 1157, 1135, 1525, 814, 146, 2108, 684,\n",
    "                      1863, 324, 530, 893, 1029, 780, 1124, 1279, 1429, 2004, 769, 899, 353, 1937, 674, 1426, 1353, \n",
    "                      1244, 2021, 256, 1447,324, 530, 893, 1029, 780, 1124, 1279, 1429, 2004, 769, 899, 353, 1937, 674,\n",
    "                      1426, 1353, 1244, 2021, 256, 1447,34, 966])\n",
    "\n",
    "merge.to_csv(\"merge.csv\")"
   ]
  },
  {
   "cell_type": "code",
   "execution_count": null,
   "id": "e4483ff8",
   "metadata": {
    "slideshow": {
     "slide_type": "slide"
    }
   },
   "outputs": [],
   "source": [
    "#　오스카\n",
    "oscar = oscar[oscar['winner']]\n",
    "oscar[oscar['category'] == 'ACTOR']\n",
    "\n",
    "oscar['category2'] = oscar['category'].apply(academy)\n",
    "\n",
    "oscar = oscar.drop(['category'], axis=1)\n",
    "oscar = oscar.dropna()\n",
    "\n",
    "oscar.to_csv(\"oscar.csv\")"
   ]
  }
 ],
 "metadata": {
  "celltoolbar": "Slideshow",
  "kernelspec": {
   "display_name": "Python 3",
   "language": "python",
   "name": "python3"
  },
  "language_info": {
   "codemirror_mode": {
    "name": "ipython",
    "version": 3
   },
   "file_extension": ".py",
   "mimetype": "text/x-python",
   "name": "python",
   "nbconvert_exporter": "python",
   "pygments_lexer": "ipython3",
   "version": "3.8.6"
  }
 },
 "nbformat": 4,
 "nbformat_minor": 5
}
