{
 "cells": [
  {
   "cell_type": "code",
   "execution_count": 5,
   "metadata": {
    "slideshow": {
     "slide_type": "skip"
    }
   },
   "outputs": [],
   "source": [
    "# warning 제거 \n",
    "import warnings \n",
    "warnings.filterwarnings(action='ignore')\n",
    "\n",
    "\n",
    "import seaborn as sns\n",
    "from matplotlib import font_manager, rc\n",
    "import matplotlib.pyplot as plt\n",
    "import pandas as pd\n",
    "import plotly.express as px\n",
    "from sklearn.preprocessing import MultiLabelBinarizer \n",
    "import numpy as np\n",
    "from sklearn.model_selection import train_test_split\n",
    "\n",
    "# 한글 폰트\n",
    "import platform\n",
    "\n",
    "def Fontmanager():\n",
    "\n",
    "    plt.rcParams['axes.unicode_minus'] = False\n",
    "\n",
    "    if platform.system() == 'Windows':\n",
    "        path = \"c:/Windows/Fonts/malgun.ttf\"\n",
    "        font_name = font_manager.FontProperties(fname=path).get_name()\n",
    "        rc('font', family=font_name)\n",
    "    elif platform.system() == 'Darwin':\n",
    "        path = '/Library/Fonts/Arial Unicode.ttf'\n",
    "        font_name = font_manager.FontProperties(fname=path).get_name()\n",
    "        rc('font', family='AppleGothic')\n",
    "    elif platform.system() == 'Linux':\n",
    "        path = '/usr/share/fonts/truetype/nanum/NanumGothic.ttf'\n",
    "        font_name = font_manager.FontProperties(fname=path).get_name()\n",
    "        rc('font', family='NanumBarunGothic')\n",
    "    else:\n",
    "        print('Unknown system... sorry~~~~~~')\n",
    "    print(f\"해당 pc의 운영 체제는 {platform.system()}이며 {font_name}로 설정되었습니다\")  \n",
    "    return path"
   ]
  },
  {
   "cell_type": "code",
   "execution_count": 6,
   "metadata": {
    "slideshow": {
     "slide_type": "skip"
    }
   },
   "outputs": [],
   "source": [
    "# 데이터 로드\n",
    "movie = pd.read_csv('datas/merge.csv')\n",
    "oscar = pd.read_csv(\"datas/oscar.csv\")"
   ]
  },
  {
   "cell_type": "code",
   "execution_count": null,
   "metadata": {},
   "outputs": [],
   "source": [
    "### 2020년 데이터로 모델 만든 후 예측해보기위해 데이터전처리하는 과정"
   ]
  },
  {
   "cell_type": "code",
   "execution_count": 3,
   "metadata": {},
   "outputs": [],
   "source": [
    "#im20 = imdb[imdb['year'] == 2020]\n",
    "#im20.info()\n",
    "#im20 = im20.drop('usa_gross_income',1)\n",
    "#im20 = im20.drop('usa_gross_income',1)\n",
    "#im20['metascore'] = im20['metascore'].fillna(0)\n",
    "#im20 = im20[im20['metascore'] != 0]\n",
    "#im20['worlwide_gross_income'] = im20['worlwide_gross_income'].fillna(0)\n",
    "#im20 = im20[im20['worlwide_gross_income'] != 0]\n",
    "#im20['budget'] = im20['budget'].fillna(0)\n",
    "#im20 = im20[im20['budget'] != 0]\n",
    "#im20.to_csv(\"im20.csv\",  index=False)\n",
    "#im20"
   ]
  },
  {
   "cell_type": "code",
   "execution_count": null,
   "metadata": {},
   "outputs": [],
   "source": []
  }
 ],
 "metadata": {
  "kernelspec": {
   "display_name": "Python 3",
   "language": "python",
   "name": "python3"
  },
  "language_info": {
   "codemirror_mode": {
    "name": "ipython",
    "version": 3
   },
   "file_extension": ".py",
   "mimetype": "text/x-python",
   "name": "python",
   "nbconvert_exporter": "python",
   "pygments_lexer": "ipython3",
   "version": "3.8.5"
  }
 },
 "nbformat": 4,
 "nbformat_minor": 5
}
